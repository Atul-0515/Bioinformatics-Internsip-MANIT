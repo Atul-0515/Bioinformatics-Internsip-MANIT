{
 "cells": [
  {
   "cell_type": "code",
   "execution_count": 3,
   "id": "b723e356",
   "metadata": {},
   "outputs": [
    {
     "data": {
      "text/plain": [
       "'2.3.0'"
      ]
     },
     "execution_count": 3,
     "metadata": {},
     "output_type": "execute_result"
    }
   ],
   "source": [
    "import pandas as pd\n",
    "pd.__version__"
   ]
  },
  {
   "cell_type": "code",
   "execution_count": 8,
   "id": "85fd223f",
   "metadata": {},
   "outputs": [
    {
     "data": {
      "text/html": [
       "<div>\n",
       "<style scoped>\n",
       "    .dataframe tbody tr th:only-of-type {\n",
       "        vertical-align: middle;\n",
       "    }\n",
       "\n",
       "    .dataframe tbody tr th {\n",
       "        vertical-align: top;\n",
       "    }\n",
       "\n",
       "    .dataframe thead th {\n",
       "        text-align: right;\n",
       "    }\n",
       "</style>\n",
       "<table border=\"1\" class=\"dataframe\">\n",
       "  <thead>\n",
       "    <tr style=\"text-align: right;\">\n",
       "      <th></th>\n",
       "      <th>total_reads_before</th>\n",
       "      <th>total_reads_after</th>\n",
       "      <th>q30_rate_before</th>\n",
       "      <th>q30_rate_after</th>\n",
       "      <th>adapter_trimmed_reads</th>\n",
       "      <th>reads_passed_filter</th>\n",
       "      <th>reads_retained_percent</th>\n",
       "    </tr>\n",
       "  </thead>\n",
       "  <tbody>\n",
       "    <tr>\n",
       "      <th>count</th>\n",
       "      <td>152.000000</td>\n",
       "      <td>152.000000</td>\n",
       "      <td>152.000000</td>\n",
       "      <td>152.000000</td>\n",
       "      <td>152.000000</td>\n",
       "      <td>152.000000</td>\n",
       "      <td>152.000000</td>\n",
       "    </tr>\n",
       "    <tr>\n",
       "      <th>mean</th>\n",
       "      <td>276260.539474</td>\n",
       "      <td>153219.355263</td>\n",
       "      <td>0.717267</td>\n",
       "      <td>0.822130</td>\n",
       "      <td>211.375000</td>\n",
       "      <td>153219.355263</td>\n",
       "      <td>51.927566</td>\n",
       "    </tr>\n",
       "    <tr>\n",
       "      <th>std</th>\n",
       "      <td>133786.622429</td>\n",
       "      <td>133632.628281</td>\n",
       "      <td>0.121652</td>\n",
       "      <td>0.067257</td>\n",
       "      <td>899.068369</td>\n",
       "      <td>133632.628281</td>\n",
       "      <td>30.948991</td>\n",
       "    </tr>\n",
       "    <tr>\n",
       "      <th>min</th>\n",
       "      <td>79822.000000</td>\n",
       "      <td>20424.000000</td>\n",
       "      <td>0.583533</td>\n",
       "      <td>0.751587</td>\n",
       "      <td>0.000000</td>\n",
       "      <td>20424.000000</td>\n",
       "      <td>13.190000</td>\n",
       "    </tr>\n",
       "    <tr>\n",
       "      <th>25%</th>\n",
       "      <td>187815.500000</td>\n",
       "      <td>51310.000000</td>\n",
       "      <td>0.606509</td>\n",
       "      <td>0.760368</td>\n",
       "      <td>16.000000</td>\n",
       "      <td>51310.000000</td>\n",
       "      <td>23.207500</td>\n",
       "    </tr>\n",
       "    <tr>\n",
       "      <th>50%</th>\n",
       "      <td>229878.000000</td>\n",
       "      <td>77388.000000</td>\n",
       "      <td>0.622569</td>\n",
       "      <td>0.769613</td>\n",
       "      <td>42.000000</td>\n",
       "      <td>77388.000000</td>\n",
       "      <td>30.930000</td>\n",
       "    </tr>\n",
       "    <tr>\n",
       "      <th>75%</th>\n",
       "      <td>340659.500000</td>\n",
       "      <td>238192.500000</td>\n",
       "      <td>0.851160</td>\n",
       "      <td>0.893217</td>\n",
       "      <td>116.000000</td>\n",
       "      <td>238192.500000</td>\n",
       "      <td>86.210000</td>\n",
       "    </tr>\n",
       "    <tr>\n",
       "      <th>max</th>\n",
       "      <td>909740.000000</td>\n",
       "      <td>694288.000000</td>\n",
       "      <td>0.901476</td>\n",
       "      <td>0.931613</td>\n",
       "      <td>10007.000000</td>\n",
       "      <td>694288.000000</td>\n",
       "      <td>92.260000</td>\n",
       "    </tr>\n",
       "  </tbody>\n",
       "</table>\n",
       "</div>"
      ],
      "text/plain": [
       "       total_reads_before  total_reads_after  q30_rate_before  q30_rate_after  \\\n",
       "count          152.000000         152.000000       152.000000      152.000000   \n",
       "mean        276260.539474      153219.355263         0.717267        0.822130   \n",
       "std         133786.622429      133632.628281         0.121652        0.067257   \n",
       "min          79822.000000       20424.000000         0.583533        0.751587   \n",
       "25%         187815.500000       51310.000000         0.606509        0.760368   \n",
       "50%         229878.000000       77388.000000         0.622569        0.769613   \n",
       "75%         340659.500000      238192.500000         0.851160        0.893217   \n",
       "max         909740.000000      694288.000000         0.901476        0.931613   \n",
       "\n",
       "       adapter_trimmed_reads  reads_passed_filter  reads_retained_percent  \n",
       "count             152.000000           152.000000              152.000000  \n",
       "mean              211.375000        153219.355263               51.927566  \n",
       "std               899.068369        133632.628281               30.948991  \n",
       "min                 0.000000         20424.000000               13.190000  \n",
       "25%                16.000000         51310.000000               23.207500  \n",
       "50%                42.000000         77388.000000               30.930000  \n",
       "75%               116.000000        238192.500000               86.210000  \n",
       "max             10007.000000        694288.000000               92.260000  "
      ]
     },
     "execution_count": 8,
     "metadata": {},
     "output_type": "execute_result"
    }
   ],
   "source": [
    "df = pd.read_csv(\"./../results/qc/trimming_summary.csv\")\n",
    "df.head()\n",
    "df.describe()"
   ]
  },
  {
   "cell_type": "code",
   "execution_count": null,
   "id": "bfe73ce7",
   "metadata": {},
   "outputs": [],
   "source": []
  }
 ],
 "metadata": {
  "kernelspec": {
   "display_name": "bio_env",
   "language": "python",
   "name": "python3"
  },
  "language_info": {
   "codemirror_mode": {
    "name": "ipython",
    "version": 3
   },
   "file_extension": ".py",
   "mimetype": "text/x-python",
   "name": "python",
   "nbconvert_exporter": "python",
   "pygments_lexer": "ipython3",
   "version": "3.11.13"
  }
 },
 "nbformat": 4,
 "nbformat_minor": 5
}
