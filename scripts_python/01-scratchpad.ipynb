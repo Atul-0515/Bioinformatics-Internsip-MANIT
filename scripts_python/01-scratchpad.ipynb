{
 "cells": [
  {
   "cell_type": "code",
   "execution_count": 1,
   "id": "89198c8b",
   "metadata": {},
   "outputs": [
    {
     "data": {
      "text/plain": [
       "'2.3.0'"
      ]
     },
     "execution_count": 1,
     "metadata": {},
     "output_type": "execute_result"
    }
   ],
   "source": [
    "import pandas as pd\n",
    "pd.__version__"
   ]
  },
  {
   "cell_type": "code",
   "execution_count": 2,
   "id": "3873b16f",
   "metadata": {},
   "outputs": [],
   "source": [
    "df1 = pd.read_csv(\"../metadata/Sra1.csv\")\n",
    "df2 = pd.read_csv(\"../metadata/Sra2.csv\")\n",
    "df3 = pd.read_csv(\"../metadata/Sra3.csv\")"
   ]
  },
  {
   "cell_type": "code",
   "execution_count": 4,
   "id": "0f37487e",
   "metadata": {},
   "outputs": [],
   "source": [
    "df_1 = df1[df1[\"host_body_mass_index\"] > 35].loc[:, [\"host_body_mass_index\", \"host_age\", \"Run\"]]\n",
    "df_1 = df_1.sample(50).sort_index()\n",
    "series_1 = df_1[\"Run\"]\n",
    "series_1.to_csv(\"../runs/02_obesity_1.txt\", index=False, header=False)"
   ]
  },
  {
   "cell_type": "code",
   "execution_count": 5,
   "id": "9407bacc",
   "metadata": {},
   "outputs": [],
   "source": [
    "df2 = df2.loc[:, [\"Run\", \"Sample Name\", \"sample_type\"]].sort_values(by=\"Sample Name\", ignore_index=True)\n",
    "normal_2 = df2.loc[:45, [\"Run\"]]\n",
    "diabetic_2 = df2.loc[46: ,[\"Run\"]]\n",
    "normal_2.to_csv(\"../runs/01_normal_2.txt\", index=False, header=False)\n",
    "diabetic_2.to_csv(\"../runs/03_diabetic_2.txt\", index=False, header=False)"
   ]
  },
  {
   "cell_type": "code",
   "execution_count": 6,
   "id": "93eb6d59",
   "metadata": {},
   "outputs": [],
   "source": [
    "# df3.iloc[:5, 40:50]\n",
    "df3 = df3.loc[:, [\"Run\", \"Sample_name\", \"Submitter_Id\"]]\n",
    "t2d_obesity_3 = df3.loc[:, \"Run\"]\n",
    "t2d_obesity_3.to_csv(\"../runs/04_t2d_obesity_3.txt\", index=False, header=False)"
   ]
  },
  {
   "cell_type": "code",
   "execution_count": null,
   "id": "a5fc6812",
   "metadata": {},
   "outputs": [],
   "source": []
  }
 ],
 "metadata": {
  "kernelspec": {
   "display_name": "bio_env",
   "language": "python",
   "name": "python3"
  },
  "language_info": {
   "codemirror_mode": {
    "name": "ipython",
    "version": 3
   },
   "file_extension": ".py",
   "mimetype": "text/x-python",
   "name": "python",
   "nbconvert_exporter": "python",
   "pygments_lexer": "ipython3",
   "version": "3.11.13"
  }
 },
 "nbformat": 4,
 "nbformat_minor": 5
}
